{
 "cells": [
  {
   "cell_type": "code",
   "execution_count": 49,
   "id": "e43cb662-f9fa-4fc6-a2a0-7bb7f7c30a35",
   "metadata": {},
   "outputs": [],
   "source": [
    "import pandas as pd\n",
    "import matplotlib.pyplot as plt\n",
    "import plotly.express as px\n",
    "import plotly.graph_objects as go\n",
    "import os\n",
    "import joblib"
   ]
  },
  {
   "cell_type": "code",
   "execution_count": 50,
   "id": "c7043f9e-e88c-400a-9140-c8b436927eef",
   "metadata": {},
   "outputs": [],
   "source": [
    "data = pd.read_csv('../../app/result.csv')"
   ]
  },
  {
   "cell_type": "code",
   "execution_count": 51,
   "id": "9672c751-f42e-401e-b60f-c342d33d9a09",
   "metadata": {},
   "outputs": [],
   "source": [
    "def get_dir_path(file):\n",
    "    # Get the current working directory\n",
    "    cwd = os.getcwd()\n",
    "\n",
    "    # Create the full path to the CSV file\n",
    "    return os.path.join(cwd, \"../../app\", file) "
   ]
  },
  {
   "cell_type": "code",
   "execution_count": 52,
   "id": "a5031a89-4761-4a85-896c-172f09250ac0",
   "metadata": {},
   "outputs": [],
   "source": [
    "def load_model():\n",
    "    try:\n",
    "        model_path = get_dir_path('predict_model.pkl')\n",
    "        model = joblib.load(model_path)\n",
    "        return model\n",
    "    except Exception as e:\n",
    "        print(f\"Error loading the model: {e}\")\n",
    "        return None\n",
    "        \n",
    "def load_scaler():\n",
    "    try:\n",
    "        scaler_path = get_dir_path('model_scaler.pkl')\n",
    "        scaler = joblib.load(scaler_path)\n",
    "        return scaler\n",
    "    except Exception as e:\n",
    "        print(f\"Error loading the scaler: {e}\")\n",
    "        return None"
   ]
  },
  {
   "cell_type": "code",
   "execution_count": 53,
   "id": "427ff792-dc04-4d4a-94d9-66e7e38a3cfd",
   "metadata": {},
   "outputs": [],
   "source": [
    "# Define the features - include team identifiers\n",
    "# Define stats that will be unavailable when trying to make predictions on the future\n",
    "unknown = ['total', 'total_opp', 'won', 'home_pts_scored', 'away_pts_scored', 'home_pts_allowed', 'away_pts_allowed']\n",
    "\n",
    "features = data.drop(columns=['spread', 'date', 'season'] + unknown)\n",
    "# Identify numerical columns for scaling\n",
    "numerical_columns = features.select_dtypes(include=['float64', 'int64']).columns\n",
    "\n",
    "model = load_model()\n",
    "scaler = load_scaler()"
   ]
  },
  {
   "cell_type": "code",
   "execution_count": 18,
   "id": "98d21af8-464f-4b83-928d-9fbb56a730e8",
   "metadata": {},
   "outputs": [],
   "source": [
    "def get_recent_performance_stats(team, team_type, data):\n",
    "    if team_type == 'home':\n",
    "        team_data = data[data['home_team'] == team]\n",
    "        team_data = team_data.select_dtypes(include=['float64', 'int64'])\n",
    "        recent_stats = team_data.iloc[-1]\n",
    "        recent_stats = recent_stats[[col for col in recent_stats.index if 'opp' not in col and 'away' not in col]]\n",
    "    elif team_type == 'away':\n",
    "        team_data = data[data['away_team'] == team]\n",
    "        team_data = team_data.select_dtypes(include=['float64', 'int64'])\n",
    "        recent_stats = team_data.iloc[-1]\n",
    "        recent_stats = recent_stats[[col for col in recent_stats.index if 'opp' in col or 'away' in col]]\n",
    "    else:\n",
    "        raise ValueError(\"team_type must be 'home' or 'away'\")\n",
    "    \n",
    "    if team_data.empty:\n",
    "        raise ValueError(f\"No recent performance stats found for team {team} as {team_type}.\")\n",
    "    \n",
    "    #print(recent_stats.columns)\n",
    "    return recent_stats"
   ]
  },
  {
   "cell_type": "code",
   "execution_count": 43,
   "id": "16461bf8-9585-4b75-a7c2-d290da758e22",
   "metadata": {},
   "outputs": [],
   "source": [
    "def prepare_features_for_prediction(home_team, away_team, data, scaler, numerical_columns):\n",
    "    try:\n",
    "        home_stats = get_recent_performance_stats(home_team, 'home', data)\n",
    "        away_stats = get_recent_performance_stats(away_team, 'away', data)\n",
    "    except ValueError as e:\n",
    "        st.error(f\"Error in getting recent performance stats: {e}\")\n",
    "        return None\n",
    "    \n",
    "    # Concatenate the stats\n",
    "    feature_vector = pd.concat([home_stats, away_stats]).to_frame().T\n",
    "    feature_vector = feature_vector[numerical_columns]\n",
    "    return feature_vector\n",
    "    \n",
    "    # # Scale the feature vector\n",
    "    # feature_vector_scaled = scaler.transform(feature_vector)\n",
    "    \n",
    "    # return feature_vector_scaled"
   ]
  },
  {
   "cell_type": "code",
   "execution_count": 44,
   "id": "ad337694-7e0b-429c-a79a-41a586685819",
   "metadata": {},
   "outputs": [],
   "source": [
    "home_team = 'LAL'\n",
    "away_team = 'GSW'"
   ]
  },
  {
   "cell_type": "code",
   "execution_count": 60,
   "id": "46eb35d8-e450-45ae-b448-c734055811f0",
   "metadata": {},
   "outputs": [],
   "source": [
    "prepared_cols = list(prepare_features_for_prediction(home_team, away_team, features, scaler, numerical_columns).columns)"
   ]
  },
  {
   "cell_type": "code",
   "execution_count": 61,
   "id": "ba7c6b6c-d868-48ac-bcca-0abca7694fb2",
   "metadata": {},
   "outputs": [],
   "source": [
    "cols = ['fg', 'fga', 'fgpct', '3p', '3pa', '3ppct', 'ft', 'fta', 'ftpct', 'orb', 'drb', 'trb', 'ast', 'stl', 'blk', 'tov', 'pf', 'pts', 'tspct', 'efgpct', '3par', 'ftr', 'orbpct', 'drbpct', 'trbpct', 'astpct', 'stlpct', 'blkpct', 'tovpct', 'ortg', 'drtg', 'fg_max', 'fga_max', 'fgpct_max', '3p_max', '3pa_max', '3ppct_max', 'ft_max', 'fta_max', 'ftpct_max', 'orb_max', 'drb_max', 'trb_max', 'ast_max', 'stl_max', 'blk_max', 'tov_max', 'pf_max', 'pts_max', '+/-_max', 'tspct_max', 'efgpct_max', '3par_max', 'ftr_max', 'orbpct_max', 'drbpct_max', 'trbpct_max', 'astpct_max', 'stlpct_max', 'blkpct_max', 'tovpct_max', 'usgpct_max', 'ortg_max', 'drtg_max', 'home', 'fg_opp', 'fga_opp', 'fgpct_opp', '3p_opp', '3pa_opp', '3ppct_opp', 'ft_opp', 'fta_opp', 'ftpct_opp', 'orb_opp', 'drb_opp', 'trb_opp', 'ast_opp', 'stl_opp', 'blk_opp', 'tov_opp', 'pf_opp', 'pts_opp', 'tspct_opp', 'efgpct_opp', '3par_opp', 'ftr_opp', 'orbpct_opp', 'drbpct_opp', 'trbpct_opp', 'astpct_opp', 'stlpct_opp', 'blkpct_opp', 'tovpct_opp', 'ortg_opp', 'drtg_opp', 'fg_max_opp', 'fga_max_opp', 'fgpct_max_opp', '3p_max_opp', '3pa_max_opp', '3ppct_max_opp', 'ft_max_opp', 'fta_max_opp', 'ftpct_max_opp', 'orb_max_opp', 'drb_max_opp', 'trb_max_opp', 'ast_max_opp', 'stl_max_opp', 'blk_max_opp', 'tov_max_opp', 'pf_max_opp', 'pts_max_opp', '+/-_max_opp', 'tspct_max_opp', 'efgpct_max_opp', '3par_max_opp', 'ftr_max_opp', 'orbpct_max_opp', 'drbpct_max_opp', 'trbpct_max_opp', 'astpct_max_opp', 'stlpct_max_opp', 'blkpct_max_opp', 'tovpct_max_opp', 'usgpct_max_opp', 'ortg_max_opp', 'drtg_max_opp', 'home_opp', 'home_avg_pts_scored', 'home_avg_pts_allowed', 'away_avg_pts_scored', 'away_avg_pts_allowed', 'home_rolling_avg_fg', 'home_rolling_avg_fga', 'home_rolling_avg_3p', 'home_rolling_avg_3pa', 'home_rolling_avg_ft', 'home_rolling_avg_fta', 'home_rolling_avg_ast', 'home_rolling_avg_trb', 'home_rolling_avg_home_pts_scored', 'home_rolling_avg_home_pts_allowed', 'away_rolling_avg_fg_opp', 'away_rolling_avg_fga_opp', 'away_rolling_avg_3p_opp', 'away_rolling_avg_3pa_opp', 'away_rolling_avg_ft_opp', 'away_rolling_avg_fta_opp', 'away_rolling_avg_ast_opp', 'away_rolling_avg_trb_opp', 'away_rolling_avg_away_pts_scored', 'away_rolling_avg_away_pts_allowed']"
   ]
  },
  {
   "cell_type": "code",
   "execution_count": 62,
   "id": "d223360e-ce52-4646-989f-c175afc00870",
   "metadata": {},
   "outputs": [
    {
     "name": "stdout",
     "output_type": "stream",
     "text": [
      "Items in prepared_cols but not in cols: set()\n",
      "Items in cols but not in prepared_cols: set()\n",
      "Items not shared between the two lists: set()\n"
     ]
    }
   ],
   "source": [
    "# Convert lists to sets\n",
    "set_cols = set(cols)\n",
    "set_prepared_cols = set(prepared_cols)\n",
    "\n",
    "# Find items not shared between the two sets\n",
    "not_in_cols = set_prepared_cols - set_cols\n",
    "not_in_prepared_cols = set_cols - set_prepared_cols\n",
    "\n",
    "# Combine the results\n",
    "not_shared = not_in_cols.union(not_in_prepared_cols)\n",
    "\n",
    "# Print the results\n",
    "print(f\"Items in prepared_cols but not in cols: {not_in_cols}\")\n",
    "print(f\"Items in cols but not in prepared_cols: {not_in_prepared_cols}\")\n",
    "print(f\"Items not shared between the two lists: {not_shared}\")"
   ]
  },
  {
   "cell_type": "code",
   "execution_count": 63,
   "id": "a5d301bb-8e21-49ce-bdaa-665d6231de8b",
   "metadata": {},
   "outputs": [
    {
     "name": "stdout",
     "output_type": "stream",
     "text": [
      "The lists do not have the same elements in the same order.\n",
      "Element fg_opp in 'cols' does not match element home_avg_pts_scored in 'prepared_cols' at index 65.\n",
      "Element fga_opp in 'cols' does not match element home_avg_pts_allowed in 'prepared_cols' at index 66.\n",
      "Element fgpct_opp in 'cols' does not match element home_rolling_avg_fg in 'prepared_cols' at index 67.\n",
      "Element 3p_opp in 'cols' does not match element home_rolling_avg_fga in 'prepared_cols' at index 68.\n",
      "Element 3pa_opp in 'cols' does not match element home_rolling_avg_3p in 'prepared_cols' at index 69.\n",
      "Element 3ppct_opp in 'cols' does not match element home_rolling_avg_3pa in 'prepared_cols' at index 70.\n",
      "Element ft_opp in 'cols' does not match element home_rolling_avg_ft in 'prepared_cols' at index 71.\n",
      "Element fta_opp in 'cols' does not match element home_rolling_avg_fta in 'prepared_cols' at index 72.\n",
      "Element ftpct_opp in 'cols' does not match element home_rolling_avg_ast in 'prepared_cols' at index 73.\n",
      "Element orb_opp in 'cols' does not match element home_rolling_avg_trb in 'prepared_cols' at index 74.\n",
      "Element drb_opp in 'cols' does not match element home_rolling_avg_home_pts_scored in 'prepared_cols' at index 75.\n",
      "Element trb_opp in 'cols' does not match element home_rolling_avg_home_pts_allowed in 'prepared_cols' at index 76.\n",
      "Element ast_opp in 'cols' does not match element fg_opp in 'prepared_cols' at index 77.\n",
      "Element stl_opp in 'cols' does not match element fga_opp in 'prepared_cols' at index 78.\n",
      "Element blk_opp in 'cols' does not match element fgpct_opp in 'prepared_cols' at index 79.\n",
      "Element tov_opp in 'cols' does not match element 3p_opp in 'prepared_cols' at index 80.\n",
      "Element pf_opp in 'cols' does not match element 3pa_opp in 'prepared_cols' at index 81.\n",
      "Element pts_opp in 'cols' does not match element 3ppct_opp in 'prepared_cols' at index 82.\n",
      "Element tspct_opp in 'cols' does not match element ft_opp in 'prepared_cols' at index 83.\n",
      "Element efgpct_opp in 'cols' does not match element fta_opp in 'prepared_cols' at index 84.\n",
      "Element 3par_opp in 'cols' does not match element ftpct_opp in 'prepared_cols' at index 85.\n",
      "Element ftr_opp in 'cols' does not match element orb_opp in 'prepared_cols' at index 86.\n",
      "Element orbpct_opp in 'cols' does not match element drb_opp in 'prepared_cols' at index 87.\n",
      "Element drbpct_opp in 'cols' does not match element trb_opp in 'prepared_cols' at index 88.\n",
      "Element trbpct_opp in 'cols' does not match element ast_opp in 'prepared_cols' at index 89.\n",
      "Element astpct_opp in 'cols' does not match element stl_opp in 'prepared_cols' at index 90.\n",
      "Element stlpct_opp in 'cols' does not match element blk_opp in 'prepared_cols' at index 91.\n",
      "Element blkpct_opp in 'cols' does not match element tov_opp in 'prepared_cols' at index 92.\n",
      "Element tovpct_opp in 'cols' does not match element pf_opp in 'prepared_cols' at index 93.\n",
      "Element ortg_opp in 'cols' does not match element pts_opp in 'prepared_cols' at index 94.\n",
      "Element drtg_opp in 'cols' does not match element tspct_opp in 'prepared_cols' at index 95.\n",
      "Element fg_max_opp in 'cols' does not match element efgpct_opp in 'prepared_cols' at index 96.\n",
      "Element fga_max_opp in 'cols' does not match element 3par_opp in 'prepared_cols' at index 97.\n",
      "Element fgpct_max_opp in 'cols' does not match element ftr_opp in 'prepared_cols' at index 98.\n",
      "Element 3p_max_opp in 'cols' does not match element orbpct_opp in 'prepared_cols' at index 99.\n",
      "Element 3pa_max_opp in 'cols' does not match element drbpct_opp in 'prepared_cols' at index 100.\n",
      "Element 3ppct_max_opp in 'cols' does not match element trbpct_opp in 'prepared_cols' at index 101.\n",
      "Element ft_max_opp in 'cols' does not match element astpct_opp in 'prepared_cols' at index 102.\n",
      "Element fta_max_opp in 'cols' does not match element stlpct_opp in 'prepared_cols' at index 103.\n",
      "Element ftpct_max_opp in 'cols' does not match element blkpct_opp in 'prepared_cols' at index 104.\n",
      "Element orb_max_opp in 'cols' does not match element tovpct_opp in 'prepared_cols' at index 105.\n",
      "Element drb_max_opp in 'cols' does not match element ortg_opp in 'prepared_cols' at index 106.\n",
      "Element trb_max_opp in 'cols' does not match element drtg_opp in 'prepared_cols' at index 107.\n",
      "Element ast_max_opp in 'cols' does not match element fg_max_opp in 'prepared_cols' at index 108.\n",
      "Element stl_max_opp in 'cols' does not match element fga_max_opp in 'prepared_cols' at index 109.\n",
      "Element blk_max_opp in 'cols' does not match element fgpct_max_opp in 'prepared_cols' at index 110.\n",
      "Element tov_max_opp in 'cols' does not match element 3p_max_opp in 'prepared_cols' at index 111.\n",
      "Element pf_max_opp in 'cols' does not match element 3pa_max_opp in 'prepared_cols' at index 112.\n",
      "Element pts_max_opp in 'cols' does not match element 3ppct_max_opp in 'prepared_cols' at index 113.\n",
      "Element +/-_max_opp in 'cols' does not match element ft_max_opp in 'prepared_cols' at index 114.\n",
      "Element tspct_max_opp in 'cols' does not match element fta_max_opp in 'prepared_cols' at index 115.\n",
      "Element efgpct_max_opp in 'cols' does not match element ftpct_max_opp in 'prepared_cols' at index 116.\n",
      "Element 3par_max_opp in 'cols' does not match element orb_max_opp in 'prepared_cols' at index 117.\n",
      "Element ftr_max_opp in 'cols' does not match element drb_max_opp in 'prepared_cols' at index 118.\n",
      "Element orbpct_max_opp in 'cols' does not match element trb_max_opp in 'prepared_cols' at index 119.\n",
      "Element drbpct_max_opp in 'cols' does not match element ast_max_opp in 'prepared_cols' at index 120.\n",
      "Element trbpct_max_opp in 'cols' does not match element stl_max_opp in 'prepared_cols' at index 121.\n",
      "Element astpct_max_opp in 'cols' does not match element blk_max_opp in 'prepared_cols' at index 122.\n",
      "Element stlpct_max_opp in 'cols' does not match element tov_max_opp in 'prepared_cols' at index 123.\n",
      "Element blkpct_max_opp in 'cols' does not match element pf_max_opp in 'prepared_cols' at index 124.\n",
      "Element tovpct_max_opp in 'cols' does not match element pts_max_opp in 'prepared_cols' at index 125.\n",
      "Element usgpct_max_opp in 'cols' does not match element +/-_max_opp in 'prepared_cols' at index 126.\n",
      "Element ortg_max_opp in 'cols' does not match element tspct_max_opp in 'prepared_cols' at index 127.\n",
      "Element drtg_max_opp in 'cols' does not match element efgpct_max_opp in 'prepared_cols' at index 128.\n",
      "Element home_opp in 'cols' does not match element 3par_max_opp in 'prepared_cols' at index 129.\n",
      "Element home_avg_pts_scored in 'cols' does not match element ftr_max_opp in 'prepared_cols' at index 130.\n",
      "Element home_avg_pts_allowed in 'cols' does not match element orbpct_max_opp in 'prepared_cols' at index 131.\n",
      "Element away_avg_pts_scored in 'cols' does not match element drbpct_max_opp in 'prepared_cols' at index 132.\n",
      "Element away_avg_pts_allowed in 'cols' does not match element trbpct_max_opp in 'prepared_cols' at index 133.\n",
      "Element home_rolling_avg_fg in 'cols' does not match element astpct_max_opp in 'prepared_cols' at index 134.\n",
      "Element home_rolling_avg_fga in 'cols' does not match element stlpct_max_opp in 'prepared_cols' at index 135.\n",
      "Element home_rolling_avg_3p in 'cols' does not match element blkpct_max_opp in 'prepared_cols' at index 136.\n",
      "Element home_rolling_avg_3pa in 'cols' does not match element tovpct_max_opp in 'prepared_cols' at index 137.\n",
      "Element home_rolling_avg_ft in 'cols' does not match element usgpct_max_opp in 'prepared_cols' at index 138.\n",
      "Element home_rolling_avg_fta in 'cols' does not match element ortg_max_opp in 'prepared_cols' at index 139.\n",
      "Element home_rolling_avg_ast in 'cols' does not match element drtg_max_opp in 'prepared_cols' at index 140.\n",
      "Element home_rolling_avg_trb in 'cols' does not match element home_opp in 'prepared_cols' at index 141.\n",
      "Element home_rolling_avg_home_pts_scored in 'cols' does not match element away_avg_pts_scored in 'prepared_cols' at index 142.\n",
      "Element home_rolling_avg_home_pts_allowed in 'cols' does not match element away_avg_pts_allowed in 'prepared_cols' at index 143.\n"
     ]
    }
   ],
   "source": [
    "# Check if the lists are the same in order\n",
    "if cols == prepared_cols:\n",
    "    print(\"The lists have the same elements in the same order.\")\n",
    "else:\n",
    "    print(\"The lists do not have the same elements in the same order.\")\n",
    "    # Find out which elements are out of order\n",
    "    for i in range(min(len(cols), len(prepared_cols))):\n",
    "        if cols[i] != prepared_cols[i]:\n",
    "            print(f\"Element {cols[i]} in 'cols' does not match element {prepared_cols[i]} in 'prepared_cols' at index {i}.\")\n",
    "    \n",
    "    # Check if one list is longer than the other\n",
    "    if len(cols) != len(prepared_cols):\n",
    "        print(f\"The lists have different lengths: 'cols' is {len(cols)} and 'prepared_cols' is {len(prepared_cols)}.\")"
   ]
  },
  {
   "cell_type": "code",
   "execution_count": null,
   "id": "4c601c0a-57f8-4413-abb6-f6db79d8d915",
   "metadata": {},
   "outputs": [],
   "source": []
  }
 ],
 "metadata": {
  "kernelspec": {
   "display_name": "Python 3 (ipykernel)",
   "language": "python",
   "name": "python3"
  },
  "language_info": {
   "codemirror_mode": {
    "name": "ipython",
    "version": 3
   },
   "file_extension": ".py",
   "mimetype": "text/x-python",
   "name": "python",
   "nbconvert_exporter": "python",
   "pygments_lexer": "ipython3",
   "version": "3.11.4"
  }
 },
 "nbformat": 4,
 "nbformat_minor": 5
}
