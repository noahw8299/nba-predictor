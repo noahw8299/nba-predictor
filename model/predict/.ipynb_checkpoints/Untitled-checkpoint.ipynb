{
 "cells": [
  {
   "cell_type": "code",
   "execution_count": 49,
   "id": "e43cb662-f9fa-4fc6-a2a0-7bb7f7c30a35",
   "metadata": {},
   "outputs": [],
   "source": [
    "import pandas as pd\n",
    "import matplotlib.pyplot as plt\n",
    "import plotly.express as px\n",
    "import plotly.graph_objects as go\n",
    "import os\n",
    "import joblib"
   ]
  },
  {
   "cell_type": "code",
   "execution_count": 50,
   "id": "c7043f9e-e88c-400a-9140-c8b436927eef",
   "metadata": {},
   "outputs": [],
   "source": [
    "data = pd.read_csv('../../app/result.csv')"
   ]
  },
  {
   "cell_type": "code",
   "execution_count": 51,
   "id": "9672c751-f42e-401e-b60f-c342d33d9a09",
   "metadata": {},
   "outputs": [],
   "source": [
    "def get_dir_path(file):\n",
    "    # Get the current working directory\n",
    "    cwd = os.getcwd()\n",
    "\n",
    "    # Create the full path to the CSV file\n",
    "    return os.path.join(cwd, \"../../app\", file) "
   ]
  },
  {
   "cell_type": "code",
   "execution_count": 52,
   "id": "a5031a89-4761-4a85-896c-172f09250ac0",
   "metadata": {},
   "outputs": [],
   "source": [
    "def load_model():\n",
    "    try:\n",
    "        model_path = get_dir_path('predict_model.pkl')\n",
    "        model = joblib.load(model_path)\n",
    "        return model\n",
    "    except Exception as e:\n",
    "        print(f\"Error loading the model: {e}\")\n",
    "        return None\n",
    "        \n",
    "def load_scaler():\n",
    "    try:\n",
    "        scaler_path = get_dir_path('model_scaler.pkl')\n",
    "        scaler = joblib.load(scaler_path)\n",
    "        return scaler\n",
    "    except Exception as e:\n",
    "        print(f\"Error loading the scaler: {e}\")\n",
    "        return None"
   ]
  },
  {
   "cell_type": "code",
   "execution_count": 53,
   "id": "427ff792-dc04-4d4a-94d9-66e7e38a3cfd",
   "metadata": {},
   "outputs": [],
   "source": [
    "# Define the features - include team identifiers\n",
    "# Define stats that will be unavailable when trying to make predictions on the future\n",
    "unknown = ['total', 'total_opp', 'won', 'home_pts_scored', 'away_pts_scored', 'home_pts_allowed', 'away_pts_allowed']\n",
    "\n",
    "features = data.drop(columns=['spread', 'date', 'season'] + unknown)\n",
    "# Identify numerical columns for scaling\n",
    "numerical_columns = features.select_dtypes(include=['float64', 'int64']).columns\n",
    "\n",
    "model = load_model()\n",
    "scaler = load_scaler()"
   ]
  },
  {
   "cell_type": "code",
   "execution_count": 18,
   "id": "98d21af8-464f-4b83-928d-9fbb56a730e8",
   "metadata": {},
   "outputs": [],
   "source": [
    "def get_recent_performance_stats(team, team_type, data):\n",
    "    if team_type == 'home':\n",
    "        team_data = data[data['home_team'] == team]\n",
    "        team_data = team_data.select_dtypes(include=['float64', 'int64'])\n",
    "        recent_stats = team_data.iloc[-1]\n",
    "        recent_stats = recent_stats[[col for col in recent_stats.index if 'opp' not in col and 'away' not in col]]\n",
    "    elif team_type == 'away':\n",
    "        team_data = data[data['away_team'] == team]\n",
    "        team_data = team_data.select_dtypes(include=['float64', 'int64'])\n",
    "        recent_stats = team_data.iloc[-1]\n",
    "        recent_stats = recent_stats[[col for col in recent_stats.index if 'opp' in col or 'away' in col]]\n",
    "    else:\n",
    "        raise ValueError(\"team_type must be 'home' or 'away'\")\n",
    "    \n",
    "    if team_data.empty:\n",
    "        raise ValueError(f\"No recent performance stats found for team {team} as {team_type}.\")\n",
    "    \n",
    "    #print(recent_stats.columns)\n",
    "    return recent_stats"
   ]
  },
  {
   "cell_type": "code",
   "execution_count": 43,
   "id": "16461bf8-9585-4b75-a7c2-d290da758e22",
   "metadata": {},
   "outputs": [],
   "source": [
    "def prepare_features_for_prediction(home_team, away_team, data, scaler, numerical_columns):\n",
    "    try:\n",
    "        home_stats = get_recent_performance_stats(home_team, 'home', data)\n",
    "        away_stats = get_recent_performance_stats(away_team, 'away', data)\n",
    "    except ValueError as e:\n",
    "        st.error(f\"Error in getting recent performance stats: {e}\")\n",
    "        return None\n",
    "    \n",
    "    # Concatenate the stats\n",
    "    feature_vector = pd.concat([home_stats, away_stats]).to_frame().T\n",
    "    return feature_vector\n",
    "    # feature_vector = feature_vector[numerical_columns]\n",
    "    \n",
    "    # # Scale the feature vector\n",
    "    # feature_vector_scaled = scaler.transform(feature_vector)\n",
    "    \n",
    "    # return feature_vector_scaled"
   ]
  },
  {
   "cell_type": "code",
   "execution_count": 44,
   "id": "ad337694-7e0b-429c-a79a-41a586685819",
   "metadata": {},
   "outputs": [],
   "source": [
    "home_team = 'LAL'\n",
    "away_team = 'GSW'"
   ]
  },
  {
   "cell_type": "code",
   "execution_count": 57,
   "id": "46eb35d8-e450-45ae-b448-c734055811f0",
   "metadata": {},
   "outputs": [
    {
     "name": "stdout",
     "output_type": "stream",
     "text": [
      "['fg', 'fga', 'fgpct', '3p', '3pa', '3ppct', 'ft', 'fta', 'ftpct', 'orb', 'drb', 'trb', 'ast', 'stl', 'blk', 'tov', 'pf', 'pts', 'tspct', 'efgpct', '3par', 'ftr', 'orbpct', 'drbpct', 'trbpct', 'astpct', 'stlpct', 'blkpct', 'tovpct', 'ortg', 'drtg', 'fg_max', 'fga_max', 'fgpct_max', '3p_max', '3pa_max', '3ppct_max', 'ft_max', 'fta_max', 'ftpct_max', 'orb_max', 'drb_max', 'trb_max', 'ast_max', 'stl_max', 'blk_max', 'tov_max', 'pf_max', 'pts_max', '+/-_max', 'tspct_max', 'efgpct_max', '3par_max', 'ftr_max', 'orbpct_max', 'drbpct_max', 'trbpct_max', 'astpct_max', 'stlpct_max', 'blkpct_max', 'tovpct_max', 'usgpct_max', 'ortg_max', 'drtg_max', 'home', 'home_avg_pts_scored', 'home_avg_pts_allowed', 'home_rolling_avg_fg', 'home_rolling_avg_fga', 'home_rolling_avg_3p', 'home_rolling_avg_3pa', 'home_rolling_avg_ft', 'home_rolling_avg_fta', 'home_rolling_avg_ast', 'home_rolling_avg_trb', 'home_rolling_avg_home_pts_scored', 'home_rolling_avg_home_pts_allowed', 'fg_opp', 'fga_opp', 'fgpct_opp', '3p_opp', '3pa_opp', '3ppct_opp', 'ft_opp', 'fta_opp', 'ftpct_opp', 'orb_opp', 'drb_opp', 'trb_opp', 'ast_opp', 'stl_opp', 'blk_opp', 'tov_opp', 'pf_opp', 'pts_opp', 'tspct_opp', 'efgpct_opp', '3par_opp', 'ftr_opp', 'orbpct_opp', 'drbpct_opp', 'trbpct_opp', 'astpct_opp', 'stlpct_opp', 'blkpct_opp', 'tovpct_opp', 'ortg_opp', 'drtg_opp', 'fg_max_opp', 'fga_max_opp', 'fgpct_max_opp', '3p_max_opp', '3pa_max_opp', '3ppct_max_opp', 'ft_max_opp', 'fta_max_opp', 'ftpct_max_opp', 'orb_max_opp', 'drb_max_opp', 'trb_max_opp', 'ast_max_opp', 'stl_max_opp', 'blk_max_opp', 'tov_max_opp', 'pf_max_opp', 'pts_max_opp', '+/-_max_opp', 'tspct_max_opp', 'efgpct_max_opp', '3par_max_opp', 'ftr_max_opp', 'orbpct_max_opp', 'drbpct_max_opp', 'trbpct_max_opp', 'astpct_max_opp', 'stlpct_max_opp', 'blkpct_max_opp', 'tovpct_max_opp', 'usgpct_max_opp', 'ortg_max_opp', 'drtg_max_opp', 'home_opp', 'away_avg_pts_scored', 'away_avg_pts_allowed', 'away_rolling_avg_fg_opp', 'away_rolling_avg_fga_opp', 'away_rolling_avg_3p_opp', 'away_rolling_avg_3pa_opp', 'away_rolling_avg_ft_opp', 'away_rolling_avg_fta_opp', 'away_rolling_avg_ast_opp', 'away_rolling_avg_trb_opp', 'away_rolling_avg_away_pts_scored', 'away_rolling_avg_away_pts_allowed']\n"
     ]
    }
   ],
   "source": [
    "prepared_cols = list(prepare_features_for_prediction(home_team, away_team, features, scaler, numerical_columns).columns)"
   ]
  },
  {
   "cell_type": "code",
   "execution_count": 55,
   "id": "ba7c6b6c-d868-48ac-bcca-0abca7694fb2",
   "metadata": {},
   "outputs": [],
   "source": [
    "cols = ['fg', 'fga', 'fgpct', '3p', '3pa', '3ppct', 'ft', 'fta', 'ftpct', 'orb', 'drb', 'trb', 'ast', 'stl', 'blk', 'tov', 'pf', 'pts', 'tspct', 'efgpct', '3par', 'ftr', 'orbpct', 'drbpct', 'trbpct', 'astpct', 'stlpct', 'blkpct', 'tovpct', 'ortg', 'drtg', 'fg_max', 'fga_max', 'fgpct_max', '3p_max', '3pa_max', '3ppct_max', 'ft_max', 'fta_max', 'ftpct_max', 'orb_max', 'drb_max', 'trb_max', 'ast_max', 'stl_max', 'blk_max', 'tov_max', 'pf_max', 'pts_max', '+/-_max', 'tspct_max', 'efgpct_max', '3par_max', 'ftr_max', 'orbpct_max', 'drbpct_max', 'trbpct_max', 'astpct_max', 'stlpct_max', 'blkpct_max', 'tovpct_max', 'usgpct_max', 'ortg_max', 'drtg_max', 'home', 'fg_opp', 'fga_opp', 'fgpct_opp', '3p_opp', '3pa_opp', '3ppct_opp', 'ft_opp', 'fta_opp', 'ftpct_opp', 'orb_opp', 'drb_opp', 'trb_opp', 'ast_opp', 'stl_opp', 'blk_opp', 'tov_opp', 'pf_opp', 'pts_opp', 'tspct_opp', 'efgpct_opp', '3par_opp', 'ftr_opp', 'orbpct_opp', 'drbpct_opp', 'trbpct_opp', 'astpct_opp', 'stlpct_opp', 'blkpct_opp', 'tovpct_opp', 'ortg_opp', 'drtg_opp', 'fg_max_opp', 'fga_max_opp', 'fgpct_max_opp', '3p_max_opp', '3pa_max_opp', '3ppct_max_opp', 'ft_max_opp', 'fta_max_opp', 'ftpct_max_opp', 'orb_max_opp', 'drb_max_opp', 'trb_max_opp', 'ast_max_opp', 'stl_max_opp', 'blk_max_opp', 'tov_max_opp', 'pf_max_opp', 'pts_max_opp', '+/-_max_opp', 'tspct_max_opp', 'efgpct_max_opp', '3par_max_opp', 'ftr_max_opp', 'orbpct_max_opp', 'drbpct_max_opp', 'trbpct_max_opp', 'astpct_max_opp', 'stlpct_max_opp', 'blkpct_max_opp', 'tovpct_max_opp', 'usgpct_max_opp', 'ortg_max_opp', 'drtg_max_opp', 'home_opp', 'home_avg_pts_scored', 'home_avg_pts_allowed', 'away_avg_pts_scored', 'away_avg_pts_allowed', 'home_rolling_avg_fg', 'home_rolling_avg_fga', 'home_rolling_avg_3p', 'home_rolling_avg_3pa', 'home_rolling_avg_ft', 'home_rolling_avg_fta', 'home_rolling_avg_ast', 'home_rolling_avg_trb', 'home_rolling_avg_home_pts_scored', 'home_rolling_avg_home_pts_allowed', 'away_rolling_avg_fg_opp', 'away_rolling_avg_fga_opp', 'away_rolling_avg_3p_opp', 'away_rolling_avg_3pa_opp', 'away_rolling_avg_ft_opp', 'away_rolling_avg_fta_opp', 'away_rolling_avg_ast_opp', 'away_rolling_avg_trb_opp', 'away_rolling_avg_away_pts_scored', 'away_rolling_avg_away_pts_allowed']"
   ]
  },
  {
   "cell_type": "code",
   "execution_count": 56,
   "id": "d223360e-ce52-4646-989f-c175afc00870",
   "metadata": {},
   "outputs": [
    {
     "name": "stdout",
     "output_type": "stream",
     "text": [
      "Items in prepared_cols but not in cols: set()\n",
      "Items in cols but not in prepared_cols: set()\n",
      "Items not shared between the two lists: set()\n"
     ]
    }
   ],
   "source": [
    "# Convert lists to sets\n",
    "set_cols = set(cols)\n",
    "set_prepared_cols = set(prepared_cols)\n",
    "\n",
    "# Find items not shared between the two sets\n",
    "not_in_cols = set_prepared_cols - set_cols\n",
    "not_in_prepared_cols = set_cols - set_prepared_cols\n",
    "\n",
    "# Combine the results\n",
    "not_shared = not_in_cols.union(not_in_prepared_cols)\n",
    "\n",
    "# Print the results\n",
    "print(f\"Items in prepared_cols but not in cols: {not_in_cols}\")\n",
    "print(f\"Items in cols but not in prepared_cols: {not_in_prepared_cols}\")\n",
    "print(f\"Items not shared between the two lists: {not_shared}\")"
   ]
  },
  {
   "cell_type": "code",
   "execution_count": null,
   "id": "a5d301bb-8e21-49ce-bdaa-665d6231de8b",
   "metadata": {},
   "outputs": [],
   "source": []
  }
 ],
 "metadata": {
  "kernelspec": {
   "display_name": "Python 3 (ipykernel)",
   "language": "python",
   "name": "python3"
  },
  "language_info": {
   "codemirror_mode": {
    "name": "ipython",
    "version": 3
   },
   "file_extension": ".py",
   "mimetype": "text/x-python",
   "name": "python",
   "nbconvert_exporter": "python",
   "pygments_lexer": "ipython3",
   "version": "3.11.4"
  }
 },
 "nbformat": 4,
 "nbformat_minor": 5
}
